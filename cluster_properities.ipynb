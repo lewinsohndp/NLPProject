{
 "cells": [
  {
   "cell_type": "code",
   "execution_count": 1,
   "id": "07d29fe4-f76e-4283-ab57-d28727e57a58",
   "metadata": {},
   "outputs": [],
   "source": [
    "import torch\n",
    "import numpy as np\n",
    "import pandas as pd\n",
    "import matplotlib.pyplot as plt\n",
    "import uniprot\n",
    "from Bio.SeqUtils.ProtParam import ProteinAnalysis"
   ]
  },
  {
   "cell_type": "code",
   "execution_count": 2,
   "id": "fbda5969-c634-48f7-94e6-79b1d4bb14e4",
   "metadata": {},
   "outputs": [],
   "source": [
    "seqids, fastas = uniprot.read_fasta(r\"C:\\Users\\marcu\\Natural Language Processing\\Final_Project\\uniprot_sprot.fasta\\uniprot_sprot.fasta\")"
   ]
  },
  {
   "cell_type": "code",
   "execution_count": 3,
   "id": "8119287f-8a01-4f94-87a0-7f01d51461e1",
   "metadata": {},
   "outputs": [],
   "source": [
    "homosapiens = [ (sp,data) for sp,data in fastas.items() if 'Homo sapiens' in data['description'] ]"
   ]
  },
  {
   "cell_type": "code",
   "execution_count": 4,
   "id": "0a777955-d724-491f-9716-0d717036d942",
   "metadata": {},
   "outputs": [],
   "source": [
    "def createDataTuples(sequences):\n",
    "    dataTuples = []\n",
    "    c = 1\n",
    "    for sp,info in sequences:\n",
    "        protein = \"protein\"+str(c)\n",
    "        dataTuples.append( (protein,info['sequence']) )\n",
    "        c+=1\n",
    "    return dataTuples"
   ]
  },
  {
   "cell_type": "code",
   "execution_count": 5,
   "id": "bce69d2c-36f9-46c3-80aa-426f44e1e4f0",
   "metadata": {},
   "outputs": [],
   "source": [
    "dt = createDataTuples(homosapiens)"
   ]
  },
  {
   "cell_type": "code",
   "execution_count": 6,
   "id": "2dc1802f-2836-42f5-b974-114ed9a14e3f",
   "metadata": {},
   "outputs": [
    {
     "name": "stderr",
     "output_type": "stream",
     "text": [
      "Using cache found in C:\\Users\\marcu/.cache\\torch\\hub\\facebookresearch_esm_main\n"
     ]
    }
   ],
   "source": [
    "model, alphabet = torch.hub.load(\"facebookresearch/esm:main\", \"esm1b_t33_650M_UR50S\")"
   ]
  },
  {
   "cell_type": "code",
   "execution_count": 7,
   "id": "c5951ed9-a5f9-4d28-ad99-87f78b2c9764",
   "metadata": {},
   "outputs": [],
   "source": [
    "# batch_converter = alphabet.get_batch_converter()\n",
    "# model.eval()\n",
    "\n",
    "# batch_labels, batch_strs, batch_tokens = batch_converter(dt)\n",
    "# with torch.no_grad():\n",
    "#     results = model(batch_tokens, repr_layers=[33], return_contacts=True)\n",
    "# token_representations = results[\"representations\"][33]"
   ]
  },
  {
   "cell_type": "code",
   "execution_count": null,
   "id": "b7ab4f44-f186-4e4a-b66a-febe39fde23f",
   "metadata": {},
   "outputs": [],
   "source": []
  }
 ],
 "metadata": {
  "kernelspec": {
   "display_name": "Python 3 (ipykernel)",
   "language": "python",
   "name": "python3"
  },
  "language_info": {
   "codemirror_mode": {
    "name": "ipython",
    "version": 3
   },
   "file_extension": ".py",
   "mimetype": "text/x-python",
   "name": "python",
   "nbconvert_exporter": "python",
   "pygments_lexer": "ipython3",
   "version": "3.10.6"
  }
 },
 "nbformat": 4,
 "nbformat_minor": 5
}
