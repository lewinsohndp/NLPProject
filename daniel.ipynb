{
 "cells": [
  {
   "cell_type": "code",
   "execution_count": 2,
   "metadata": {},
   "outputs": [
    {
     "name": "stderr",
     "output_type": "stream",
     "text": [
      "/Users/daniel/miniconda3/envs/nlp/lib/python3.9/site-packages/tqdm/auto.py:22: TqdmWarning: IProgress not found. Please update jupyter and ipywidgets. See https://ipywidgets.readthedocs.io/en/stable/user_install.html\n",
      "  from .autonotebook import tqdm as notebook_tqdm\n"
     ]
    }
   ],
   "source": [
    "from transformers import ESMForMaskedLM, ESMTokenizer, pipeline\n",
    "#https://discuss.huggingface.co/t/solved-model-esm-1b-is-not-defined/17104\n",
    "import pandas as pd\n",
    "import numpy as np\n",
    "import uniprot\n",
    "from Bio.SeqUtils.ProtParam import ProteinAnalysis\n",
    "import matplotlib.pyplot as plt\n",
    "import torch\n",
    "import math\n",
    "import utilities"
   ]
  },
  {
   "cell_type": "code",
   "execution_count": 3,
   "metadata": {},
   "outputs": [
    {
     "name": "stderr",
     "output_type": "stream",
     "text": [
      "Using cache found in /Users/daniel/.cache/torch/hub/facebookresearch_esm_main\n"
     ]
    }
   ],
   "source": [
    "model, alphabet = torch.hub.load(\"facebookresearch/esm:main\", \"esm1b_t33_650M_UR50S\")"
   ]
  },
  {
   "cell_type": "code",
   "execution_count": 3,
   "metadata": {},
   "outputs": [
    {
     "data": {
      "text/plain": [
       "{'<cls>': 0,\n",
       " '<pad>': 1,\n",
       " '<eos>': 2,\n",
       " '<unk>': 3,\n",
       " 'L': 4,\n",
       " 'A': 5,\n",
       " 'G': 6,\n",
       " 'V': 7,\n",
       " 'S': 8,\n",
       " 'E': 9,\n",
       " 'R': 10,\n",
       " 'T': 11,\n",
       " 'I': 12,\n",
       " 'D': 13,\n",
       " 'P': 14,\n",
       " 'K': 15,\n",
       " 'Q': 16,\n",
       " 'N': 17,\n",
       " 'F': 18,\n",
       " 'Y': 19,\n",
       " 'M': 20,\n",
       " 'H': 21,\n",
       " 'W': 22,\n",
       " 'C': 23,\n",
       " 'X': 24,\n",
       " 'B': 25,\n",
       " 'U': 26,\n",
       " 'Z': 27,\n",
       " 'O': 28,\n",
       " '.': 29,\n",
       " '-': 30,\n",
       " '<null_1>': 31,\n",
       " '<mask>': 32}"
      ]
     },
     "execution_count": 3,
     "metadata": {},
     "output_type": "execute_result"
    }
   ],
   "source": [
    "alphabet.tok_to_idx"
   ]
  },
  {
   "cell_type": "code",
   "execution_count": 4,
   "metadata": {},
   "outputs": [],
   "source": [
    "seqids, fastas = uniprot.read_fasta('/Users/daniel/desktop/cp341/uniprot_sprot.fasta')"
   ]
  },
  {
   "cell_type": "code",
   "execution_count": 5,
   "metadata": {},
   "outputs": [
    {
     "name": "stdout",
     "output_type": "stream",
     "text": [
      "torch.Size([10, 258, 33])\n",
      "torch.Size([20, 258, 33])\n"
     ]
    }
   ],
   "source": [
    "# mask amino acid, take BCE loss of softmax(predicted) from actual, average for all amino acid of same type, compare across\n",
    "aa_loss = {}\n",
    "aa_counts = {}\n",
    "for i in range(1):\n",
    "    seq = fastas[seqids[i]][\"sequence\"]\n",
    "    seq_list = utilities.mask_seq(seq)\n",
    "    #for temp_seq in seq_list:\n",
    "    #get all logit for entire sequence\n",
    "    results = None\n",
    "    for i in range(0, len(seq_list), 10):\n",
    "        temp_result = utilities.forward_pass(model, alphabet, seq_list[i:i+10])\n",
    "        if results == None:\n",
    "            results = temp_result\n",
    "        else:\n",
    "            results = torch.concat((results, temp_result), dim=0)\n",
    "        print(results.shape)\n",
    "        if i == 10: break\n",
    "    #print(results)\n",
    "    # go through, subset to just maxed amino acid, softmax of predicted layer, BCE with real\n",
    "    for j, result in enumerate(results):\n",
    "        masked_aa = seq[j]\n",
    "        correct_row = result[j+1]\n",
    "        softmax = torch.nn.Softmax(dim=-1)\n",
    "        soft_row = softmax(correct_row)\n",
    "        bce = torch.nn.CrossEntropyLoss()\n",
    "        target = torch.tensor([alphabet.tok_to_idx[masked_aa]])\n",
    "        loss = bce(torch.reshape(soft_row, (1,33)), target)\n",
    "        try:\n",
    "            aa_loss[masked_aa] += float(loss)\n",
    "        except KeyError:\n",
    "            aa_loss[masked_aa] = float(loss)\n",
    "        \n",
    "        try:\n",
    "            aa_counts[masked_aa] += 1\n",
    "        except KeyError:\n",
    "            aa_counts[masked_aa] = 1\n",
    "    #print(results)\n",
    "\n"
   ]
  },
  {
   "cell_type": "code",
   "execution_count": 10,
   "metadata": {},
   "outputs": [
    {
     "data": {
      "text/plain": [
       "array([3.04335737, 3.44195708, 3.5010016 , 3.35975695, 3.37050001,\n",
       "       3.44675767, 3.4273653 , 3.41229892, 3.38035178, 3.49524617,\n",
       "       3.43285882])"
      ]
     },
     "execution_count": 10,
     "metadata": {},
     "output_type": "execute_result"
    }
   ],
   "source": [
    "np.array(list(aa_loss.values()))/np.array(list(aa_counts.values()))"
   ]
  },
  {
   "cell_type": "code",
   "execution_count": 7,
   "metadata": {},
   "outputs": [
    {
     "data": {
      "text/plain": [
       "{'M': 2,\n",
       " 'A': 3,\n",
       " 'F': 1,\n",
       " 'S': 1,\n",
       " 'E': 3,\n",
       " 'D': 2,\n",
       " 'V': 1,\n",
       " 'L': 1,\n",
       " 'K': 1,\n",
       " 'Y': 1,\n",
       " 'R': 4}"
      ]
     },
     "execution_count": 7,
     "metadata": {},
     "output_type": "execute_result"
    }
   ],
   "source": [
    "aa_counts"
   ]
  },
  {
   "cell_type": "code",
   "execution_count": 8,
   "metadata": {},
   "outputs": [
    {
     "data": {
      "text/plain": [
       "torch.Size([258, 33])"
      ]
     },
     "execution_count": 8,
     "metadata": {},
     "output_type": "execute_result"
    }
   ],
   "source": [
    "results[0].shape"
   ]
  },
  {
   "cell_type": "code",
   "execution_count": 11,
   "metadata": {},
   "outputs": [
    {
     "data": {
      "text/plain": [
       "'<mask>AFSAEDVLKEYDRRRRMEALLLSLYYPNDRKLLDYKEWSPPRVQVECPKAPVEWNNPPSEKGLIVGHFSGIKYKGEKAQASEVDVNKMCCWVSKFKDAMRRYQGIQTCKIPGKVLSDLDAKIKAYNLTVEGVEGFVRYSRVTKQHVAAFLKELRHSKQYENVNLIHYILTDKRVDIQHLEKDLVKDFKALVESAHRMRQGHMINVKYILYQLLKKHGHGPDGPDILTVKTGSKGVLYDDSFRKIYTDLGWKFTPL'"
      ]
     },
     "execution_count": 11,
     "metadata": {},
     "output_type": "execute_result"
    }
   ],
   "source": [
    "[(\"blah\", x) for x in seq_list][0]"
   ]
  },
  {
   "cell_type": "code",
   "execution_count": 41,
   "metadata": {},
   "outputs": [
    {
     "data": {
      "text/plain": [
       "<matplotlib.collections.PathCollection at 0x7f81bbd252e0>"
      ]
     },
     "execution_count": 41,
     "metadata": {},
     "output_type": "execute_result"
    },
    {
     "data": {
      "image/png": "[encoded data removed]",
      "text/plain": [
       "<Figure size 640x480 with 1 Axes>"
      ]
     },
     "metadata": {},
     "output_type": "display_data"
    }
   ],
   "source": [
    "plt.scatter(seq_probs, analysis[0:56,0])"
   ]
  },
  {
   "cell_type": "code",
   "execution_count": 30,
   "metadata": {},
   "outputs": [],
   "source": [
    "seq_length = np.array(seq_length)"
   ]
  },
  {
   "cell_type": "code",
   "execution_count": 66,
   "metadata": {},
   "outputs": [
    {
     "ename": "TypeError",
     "evalue": "unsupported operand type(s) for /: 'list' and 'int'",
     "output_type": "error",
     "traceback": [
      "\u001b[0;31m---------------------------------------------------------------------------\u001b[0m",
      "\u001b[0;31mTypeError\u001b[0m                                 Traceback (most recent call last)",
      "\u001b[1;32m/Users/daniel/Desktop/CP341/NLPProject/daniel.ipynb Cell 18'\u001b[0m in \u001b[0;36m<cell line: 2>\u001b[0;34m()\u001b[0m\n\u001b[1;32m      <a href='vscode-notebook-cell:/Users/daniel/Desktop/CP341/NLPProject/daniel.ipynb#ch0000018?line=0'>1</a>\u001b[0m seq_probs \u001b[39m=\u001b[39m np\u001b[39m.\u001b[39marray(seq_probs)\n\u001b[0;32m----> <a href='vscode-notebook-cell:/Users/daniel/Desktop/CP341/NLPProject/daniel.ipynb#ch0000018?line=1'>2</a>\u001b[0m seq_probs_norm \u001b[39m=\u001b[39m seq_probs \u001b[39m/\u001b[39m np\u001b[39m.\u001b[39mfloor(seq_length\u001b[39m/\u001b[39;49m\u001b[39m20\u001b[39;49m)[\u001b[39m0\u001b[39m:\u001b[39m56\u001b[39m]\n",
      "\u001b[0;31mTypeError\u001b[0m: unsupported operand type(s) for /: 'list' and 'int'"
     ]
    }
   ],
   "source": [
    "seq_probs = np.array(seq_probs)\n",
    "seq_probs_norm = seq_probs / np.floor(seq_length/20)[0:56]"
   ]
  },
  {
   "cell_type": "code",
   "execution_count": 43,
   "metadata": {},
   "outputs": [
    {
     "data": {
      "text/plain": [
       "<matplotlib.collections.PathCollection at 0x7f81bbfb1490>"
      ]
     },
     "execution_count": 43,
     "metadata": {},
     "output_type": "execute_result"
    },
    {
     "data": {
      "image/png": "[encoded data removed]",
      "text/plain": [
       "<Figure size 640x480 with 1 Axes>"
      ]
     },
     "metadata": {},
     "output_type": "display_data"
    }
   ],
   "source": [
    "plt.scatter(seq_probs_norm, analysis[0:56,0])"
   ]
  },
  {
   "cell_type": "code",
   "execution_count": 49,
   "metadata": {},
   "outputs": [
    {
     "data": {
      "text/plain": [
       "<matplotlib.collections.PathCollection at 0x7f81bc5ed9d0>"
      ]
     },
     "execution_count": 49,
     "metadata": {},
     "output_type": "execute_result"
    },
    {
     "data": {
      "image/png": "[encoded data removed]",
      "text/plain": [
       "<Figure size 640x480 with 1 Axes>"
      ]
     },
     "metadata": {},
     "output_type": "display_data"
    }
   ],
   "source": [
    "#aromaticity\n",
    "plt.scatter(seq_probs_norm, analysis[0:56,3])"
   ]
  },
  {
   "cell_type": "code",
   "execution_count": 53,
   "metadata": {},
   "outputs": [
    {
     "data": {
      "text/plain": [
       "<matplotlib.collections.PathCollection at 0x7f81bc864310>"
      ]
     },
     "execution_count": 53,
     "metadata": {},
     "output_type": "execute_result"
    },
    {
     "data": {
      "image/png": "[encoded data removed]",
      "text/plain": [
       "<Figure size 640x480 with 1 Axes>"
      ]
     },
     "metadata": {},
     "output_type": "display_data"
    }
   ],
   "source": [
    "plt.scatter(seq_probs_norm, analysis[0:56,5])"
   ]
  }
 ],
 "metadata": {
  "kernelspec": {
   "display_name": "Python 3.9.13 ('nlp')",
   "language": "python",
   "name": "python3"
  },
  "language_info": {
   "codemirror_mode": {
    "name": "ipython",
    "version": 3
   },
   "file_extension": ".py",
   "mimetype": "text/x-python",
   "name": "python",
   "nbconvert_exporter": "python",
   "pygments_lexer": "ipython3",
   "version": "3.9.13"
  },
  "orig_nbformat": 4,
  "vscode": {
   "interpreter": {
    "hash": "a8d352556b14eb67fbeb3aa81f53c1794c5d4a8c4ceb5afca9aa9fe9fcbd004d"
   }
  }
 },
 "nbformat": 4,
 "nbformat_minor": 2
}
