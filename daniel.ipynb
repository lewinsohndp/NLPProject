{
 "cells": [
  {
   "cell_type": "code",
   "execution_count": 1,
   "metadata": {},
   "outputs": [
    {
     "name": "stderr",
     "output_type": "stream",
     "text": [
      "/Users/daniel/miniconda3/envs/nlp/lib/python3.9/site-packages/tqdm/auto.py:22: TqdmWarning: IProgress not found. Please update jupyter and ipywidgets. See https://ipywidgets.readthedocs.io/en/stable/user_install.html\n",
      "  from .autonotebook import tqdm as notebook_tqdm\n"
     ]
    }
   ],
   "source": [
    "from transformers import ESMForMaskedLM, ESMTokenizer, pipeline\n",
    "#https://discuss.huggingface.co/t/solved-model-esm-1b-is-not-defined/17104\n",
    "import pandas as pd\n",
    "import numpy as np"
   ]
  },
  {
   "cell_type": "code",
   "execution_count": 2,
   "metadata": {},
   "outputs": [
    {
     "name": "stderr",
     "output_type": "stream",
     "text": [
      "Downloading: 100%|██████████| 94.0/94.0 [00:00<00:00, 26.9kB/s]\n",
      "Downloading: 100%|██████████| 112/112 [00:00<00:00, 84.2kB/s]\n",
      "Downloading: 100%|██████████| 35.0/35.0 [00:00<00:00, 31.7kB/s]\n",
      "Downloading: 100%|██████████| 664/664 [00:00<00:00, 480kB/s]\n",
      "Downloading: 100%|██████████| 2.43G/2.43G [31:08<00:00, 1.40MB/s] \n"
     ]
    },
    {
     "data": {
      "text/plain": [
       "[{'sequence': 'Q E R L K S I V R I L E E S L G Y N I V A T',\n",
       "  'score': 0.09725307673215866,\n",
       "  'token': 9,\n",
       "  'token_str': 'E'},\n",
       " {'sequence': 'Q E R L K S I V R I L E K S L G Y N I V A T',\n",
       "  'score': 0.0944431722164154,\n",
       "  'token': 15,\n",
       "  'token_str': 'K'},\n",
       " {'sequence': 'Q E R L K S I V R I L E S S L G Y N I V A T',\n",
       "  'score': 0.06862866878509521,\n",
       "  'token': 8,\n",
       "  'token_str': 'S'},\n",
       " {'sequence': 'Q E R L K S I V R I L E L S L G Y N I V A T',\n",
       "  'score': 0.06245534121990204,\n",
       "  'token': 4,\n",
       "  'token_str': 'L'},\n",
       " {'sequence': 'Q E R L K S I V R I L E R S L G Y N I V A T',\n",
       "  'score': 0.06243716552853584,\n",
       "  'token': 10,\n",
       "  'token_str': 'R'}]"
      ]
     },
     "execution_count": 2,
     "metadata": {},
     "output_type": "execute_result"
    }
   ],
   "source": [
    "tokenizer = ESMTokenizer.from_pretrained(\"facebook/esm-1b\", do_lower_case=False)\n",
    "model = ESMForMaskedLM.from_pretrained(\"facebook/esm-1b\")\n",
    "unmasker = pipeline('fill-mask', model=model, tokenizer=tokenizer)\n",
    "unmasker('QERLKSIVRILE<mask>SLGYNIVAT')"
   ]
  }
 ],
 "metadata": {
  "kernelspec": {
   "display_name": "Python 3.9.13 ('nlp')",
   "language": "python",
   "name": "python3"
  },
  "language_info": {
   "codemirror_mode": {
    "name": "ipython",
    "version": 3
   },
   "file_extension": ".py",
   "mimetype": "text/x-python",
   "name": "python",
   "nbconvert_exporter": "python",
   "pygments_lexer": "ipython3",
   "version": "3.9.13"
  },
  "orig_nbformat": 4,
  "vscode": {
   "interpreter": {
    "hash": "a8d352556b14eb67fbeb3aa81f53c1794c5d4a8c4ceb5afca9aa9fe9fcbd004d"
   }
  }
 },
 "nbformat": 4,
 "nbformat_minor": 2
}
