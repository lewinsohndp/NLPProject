{
  "cells": [
    {
      "cell_type": "code",
      "execution_count": null,
      "metadata": {
        "colab": {
          "base_uri": "https://localhost:8080/"
        },
        "id": "FJFkldDd25y6",
        "outputId": "adfb68e8-3cad-49a7-989a-c2a2a8d34aa7"
      },
      "outputs": [
        {
          "output_type": "stream",
          "name": "stdout",
          "text": [
            "Looking in indexes: https://pypi.org/simple, https://us-python.pkg.dev/colab-wheels/public/simple/\n",
            "Collecting uniprot\n",
            "  Downloading uniprot-1.3.tar.gz (9.6 kB)\n",
            "Requirement already satisfied: requests in /usr/local/lib/python3.7/dist-packages (from uniprot) (2.23.0)\n",
            "Requirement already satisfied: chardet<4,>=3.0.2 in /usr/local/lib/python3.7/dist-packages (from requests->uniprot) (3.0.4)\n",
            "Requirement already satisfied: certifi>=2017.4.17 in /usr/local/lib/python3.7/dist-packages (from requests->uniprot) (2022.6.15)\n",
            "Requirement already satisfied: idna<3,>=2.5 in /usr/local/lib/python3.7/dist-packages (from requests->uniprot) (2.10)\n",
            "Requirement already satisfied: urllib3!=1.25.0,!=1.25.1,<1.26,>=1.21.1 in /usr/local/lib/python3.7/dist-packages (from requests->uniprot) (1.24.3)\n",
            "Building wheels for collected packages: uniprot\n",
            "  Building wheel for uniprot (setup.py) ... \u001b[?25l\u001b[?25hdone\n",
            "  Created wheel for uniprot: filename=uniprot-1.3-py3-none-any.whl size=10344 sha256=ad342d57752cf05d9e45990d03548c0e9b93e8c0e7cbfa6fed61c00771cd7627\n",
            "  Stored in directory: /root/.cache/pip/wheels/06/9c/6e/c8fda92238f3ca826c2c2aff0d2c25f5677a02a9941323a463\n",
            "Successfully built uniprot\n",
            "Installing collected packages: uniprot\n",
            "Successfully installed uniprot-1.3\n",
            "Looking in indexes: https://pypi.org/simple, https://us-python.pkg.dev/colab-wheels/public/simple/\n",
            "Collecting biopython\n",
            "  Downloading biopython-1.79-cp37-cp37m-manylinux_2_5_x86_64.manylinux1_x86_64.whl (2.3 MB)\n",
            "\u001b[K     |████████████████████████████████| 2.3 MB 4.0 MB/s \n",
            "\u001b[?25hRequirement already satisfied: numpy in /usr/local/lib/python3.7/dist-packages (from biopython) (1.21.6)\n",
            "Installing collected packages: biopython\n",
            "Successfully installed biopython-1.79\n"
          ]
        }
      ],
      "source": [
        "import torch\n",
        "import numpy as np\n",
        "import pandas as pd\n",
        "import matplotlib.pyplot as plt\n",
        "!pip install uniprot\n",
        "!pip install biopython\n",
        "import uniprot\n",
        "from Bio.SeqUtils.ProtParam import ProteinAnalysis"
      ]
    },
    {
      "cell_type": "code",
      "source": [
        "from google.colab import drive\n",
        "drive.mount('/content/drive')"
      ],
      "metadata": {
        "id": "ewmYLmua3zup",
        "colab": {
          "base_uri": "https://localhost:8080/"
        },
        "outputId": "8699e4b2-c597-4990-c741-477668cb8850"
      },
      "execution_count": null,
      "outputs": [
        {
          "output_type": "stream",
          "name": "stdout",
          "text": [
            "Mounted at /content/drive\n"
          ]
        }
      ]
    },
    {
      "cell_type": "code",
      "execution_count": null,
      "metadata": {
        "id": "pC0g8C9F25zA"
      },
      "outputs": [],
      "source": [
        "seqids, fastas = uniprot.read_fasta('/content/drive/MyDrive/uniprot_sprot.fasta')"
      ]
    },
    {
      "cell_type": "code",
      "execution_count": null,
      "metadata": {
        "id": "m-Iu7AOK25zA",
        "colab": {
          "base_uri": "https://localhost:8080/"
        },
        "outputId": "3cef0240-bb34-4d8f-f523-860a87b8f7fd"
      },
      "outputs": [
        {
          "output_type": "execute_result",
          "data": {
            "text/plain": [
              "['sp|Q6GZX4',\n",
              " 'sp|Q6GZX3',\n",
              " 'sp|Q197F8',\n",
              " 'sp|Q197F7',\n",
              " 'sp|Q6GZX2',\n",
              " 'sp|Q6GZX1',\n",
              " 'sp|Q197F5',\n",
              " 'sp|Q6GZX0',\n",
              " 'sp|Q91G88',\n",
              " 'sp|Q6GZW9']"
            ]
          },
          "metadata": {},
          "execution_count": 6
        }
      ],
      "source": [
        "seqids[0:10]"
      ]
    },
    {
      "cell_type": "code",
      "execution_count": null,
      "metadata": {
        "id": "wlo7P16l25zC",
        "colab": {
          "base_uri": "https://localhost:8080/"
        },
        "outputId": "ed801747-12fe-46a0-ea64-2fe7aa1d9fda"
      },
      "outputs": [
        {
          "output_type": "execute_result",
          "data": {
            "text/plain": [
              "{'sequence': 'MSTSRKLKSHGMRRSKSRSPHKGVKRGGSKRKYRKGNLKSRKRGDDANRNYRSHL',\n",
              " 'description': 'sp|P09430 STP1_HUMAN Spermatid nuclear transition protein 1 OS=Homo sapiens OX=9606 GN=TNP1 PE=1 SV=2'}"
            ]
          },
          "metadata": {},
          "execution_count": 7
        }
      ],
      "source": [
        "fastas['sp|P09430']"
      ]
    },
    {
      "cell_type": "code",
      "execution_count": null,
      "metadata": {
        "id": "kwKSBAy425zD"
      },
      "outputs": [],
      "source": [
        "analysis = ProteinAnalysis(fastas[seqids[0]]['sequence'])"
      ]
    },
    {
      "cell_type": "code",
      "execution_count": null,
      "metadata": {
        "id": "yFesNxsn25zD",
        "colab": {
          "base_uri": "https://localhost:8080/"
        },
        "outputId": "99533cf6-54bb-47f3-eebe-301fd78a3d44"
      },
      "outputs": [
        {
          "output_type": "execute_result",
          "data": {
            "text/plain": [
              "29735.10070000003"
            ]
          },
          "metadata": {},
          "execution_count": 9
        }
      ],
      "source": [
        "analysis.molecular_weight()"
      ]
    },
    {
      "cell_type": "code",
      "source": [
        "seqids.index(\"sp|Q8N6V4\")"
      ],
      "metadata": {
        "colab": {
          "base_uri": "https://localhost:8080/"
        },
        "id": "kr7ZwSzquyyE",
        "outputId": "2ddab25c-0965-4e75-aa47-78041d0f8a43"
      },
      "execution_count": null,
      "outputs": [
        {
          "output_type": "execute_result",
          "data": {
            "text/plain": [
              "67261"
            ]
          },
          "metadata": {},
          "execution_count": 81
        }
      ]
    },
    {
      "cell_type": "code",
      "source": [
        "#Protein analysis function for obtaining measures, and linear regression model.\n",
        "from sklearn.linear_model import LinearRegression\n",
        "import pandas\n",
        "\n",
        "#Preprepared protein sequence embeddings:\n",
        "embeddings=pandas.read_csv('/content/drive/MyDrive/human_protein_embeddings.csv', index_col=0)\n",
        "\n",
        "\n",
        "#For both aromaticity and instability, we must use the premade embeddings and \n",
        "#protein analysis variables to grade a linear regression model\n",
        "\n",
        "#Aromaticity\n",
        "#\n",
        "\n",
        "aroma_data=[]\n",
        "bad_indices=[]\n",
        "#Get the sequences from the fasta\n",
        "for embedding_seqid in embeddings.index:\n",
        "  sequence=fastas[embedding_seqid]['sequence']\n",
        "  \n",
        "\n",
        "  analysis_data=ProteinAnalysis(sequence)\n",
        "  #Try catch in case of key error\n",
        "  try:\n",
        "    aroma_data+=[analysis_data.aromaticity()]\n",
        "    \n",
        "  except KeyError:\n",
        "    #Get the bad indices\n",
        "    bad_indices.append(embedding_seqid)\n",
        "  \n",
        "#Drop the bad indices\n",
        "important_embeddings2=embeddings.drop(bad_indices)\n",
        "\n",
        "#Split into training and testing\n",
        "np.random.seed(8)\n",
        "all_indices = list(range(len(important_embeddings2)))\n",
        "train_split = np.random.choice(all_indices, int(len(important_embeddings2)*.8), replace=False)\n",
        "test_split = list(set(all_indices) - set(train_split))\n",
        "train_tokens = important_embeddings2.iloc[train_split,:]\n",
        "\n",
        "#Turn aromaticity data to numpy arrays for fit\n",
        "train_y = np.array(aroma_data)[train_split]\n",
        "test_tokens = embeddings.iloc[test_split]\n",
        "test_y = np.array(aroma_data)[test_split]\n",
        "\n",
        "\n",
        "\n",
        "linear_regression_model=LinearRegression().fit(np.array(train_tokens), train_y)\n",
        "#predict with model\n",
        "\n",
        "#score\n",
        "print(linear_regression_model.score(test_tokens,test_y))\n",
        "\n",
        "\n",
        "#Instability\n",
        "#\n",
        "\n",
        "stability_data=[]\n",
        "bad_indices=[]\n",
        "\n",
        "#Get the fasta sequences that correspond to the embeddings we prepared\n",
        "for embedding_seqid in embeddings.index:\n",
        "  sequence=fastas[embedding_seqid]['sequence']\n",
        "\n",
        "  instability_data=ProteinAnalysis(sequence)\n",
        "  #Instability index function throws a key error on 3 of the sequences, \n",
        "  #so they must be removed\n",
        "  try:\n",
        "    #Get the instability values for each sequence and add them to stability data\n",
        "    stability_data+=[instability_data.instability_index()]\n",
        "    \n",
        "  except KeyError:\n",
        "    #catalogue bad indices\n",
        "    bad_indices.append(embedding_seqid)\n",
        "  \n",
        "  \n",
        "#drop the bad indices\n",
        "important_embeddings=embeddings.drop(bad_indices)\n",
        "\n",
        "#Split into training and testing\n",
        "np.random.seed(8)\n",
        "all_indices = list(range(len(important_embeddings)))\n",
        "train_split = np.random.choice(all_indices, int(len(important_embeddings)*.8), replace=False)\n",
        "test_split = list(set(all_indices) - set(train_split))\n",
        "train_tokens = important_embeddings.iloc[train_split,:]\n",
        "\n",
        "#Turn the stability data to numpy array data to fit the model\n",
        "train_y = np.array(stability_data)[train_split]\n",
        "test_tokens = embeddings.iloc[test_split]\n",
        "test_y = np.array(stability_data)[test_split]\n",
        "\n",
        "\n",
        "linear_regression_model=LinearRegression().fit(np.array(train_tokens), train_y)\n",
        "#predict with model\n",
        "\n",
        "#score\n",
        "print(linear_regression_model.score(test_tokens,test_y))\n",
        "\n",
        "\n",
        "\n",
        "\n",
        "\n",
        "\n"
      ],
      "metadata": {
        "id": "_by-H7r80nVP",
        "colab": {
          "base_uri": "https://localhost:8080/",
          "height": 641
        },
        "outputId": "0eceef7d-4c4c-450e-8fd7-e7affb07dd1c"
      },
      "execution_count": null,
      "outputs": [
        {
          "output_type": "stream",
          "name": "stderr",
          "text": [
            "/usr/local/lib/python3.7/dist-packages/sklearn/base.py:444: UserWarning: X has feature names, but LinearRegression was fitted without feature names\n",
            "  f\"X has feature names, but {self.__class__.__name__} was fitted without\"\n"
          ]
        },
        {
          "output_type": "stream",
          "name": "stdout",
          "text": [
            "0.7422303759579931\n"
          ]
        },
        {
          "output_type": "stream",
          "name": "stderr",
          "text": [
            "/usr/local/lib/python3.7/dist-packages/sklearn/base.py:444: UserWarning: X has feature names, but LinearRegression was fitted without feature names\n",
            "  f\"X has feature names, but {self.__class__.__name__} was fitted without\"\n"
          ]
        },
        {
          "output_type": "stream",
          "name": "stdout",
          "text": [
            "-0.8188177380428985\n"
          ]
        },
        {
          "output_type": "stream",
          "name": "stderr",
          "text": [
            "/usr/local/lib/python3.7/dist-packages/ipykernel_launcher.py:128: VisibleDeprecationWarning: Creating an ndarray from ragged nested sequences (which is a list-or-tuple of lists-or-tuples-or ndarrays with different lengths or shapes) is deprecated. If you meant to do this, you must specify 'dtype=object' when creating the ndarray.\n",
            "/usr/local/lib/python3.7/dist-packages/ipykernel_launcher.py:130: VisibleDeprecationWarning: Creating an ndarray from ragged nested sequences (which is a list-or-tuple of lists-or-tuples-or ndarrays with different lengths or shapes) is deprecated. If you meant to do this, you must specify 'dtype=object' when creating the ndarray.\n"
          ]
        },
        {
          "output_type": "error",
          "ename": "ValueError",
          "evalue": "ignored",
          "traceback": [
            "\u001b[0;31m---------------------------------------------------------------------------\u001b[0m",
            "\u001b[0;31mTypeError\u001b[0m                                 Traceback (most recent call last)",
            "\u001b[0;31mTypeError\u001b[0m: float() argument must be a string or a number, not 'list'",
            "\nThe above exception was the direct cause of the following exception:\n",
            "\u001b[0;31mValueError\u001b[0m                                Traceback (most recent call last)",
            "\u001b[0;32m<ipython-input-92-86be84302aad>\u001b[0m in \u001b[0;36m<module>\u001b[0;34m\u001b[0m\n\u001b[1;32m    132\u001b[0m \u001b[0;34m\u001b[0m\u001b[0m\n\u001b[1;32m    133\u001b[0m \u001b[0;34m\u001b[0m\u001b[0m\n\u001b[0;32m--> 134\u001b[0;31m \u001b[0mlinear_regression_model\u001b[0m\u001b[0;34m=\u001b[0m\u001b[0mLinearRegression\u001b[0m\u001b[0;34m(\u001b[0m\u001b[0;34m)\u001b[0m\u001b[0;34m.\u001b[0m\u001b[0mfit\u001b[0m\u001b[0;34m(\u001b[0m\u001b[0mnp\u001b[0m\u001b[0;34m.\u001b[0m\u001b[0marray\u001b[0m\u001b[0;34m(\u001b[0m\u001b[0mtrain_tokens\u001b[0m\u001b[0;34m)\u001b[0m\u001b[0;34m,\u001b[0m \u001b[0mtrain_y\u001b[0m\u001b[0;34m)\u001b[0m\u001b[0;34m\u001b[0m\u001b[0;34m\u001b[0m\u001b[0m\n\u001b[0m\u001b[1;32m    135\u001b[0m \u001b[0;31m#predict with model\u001b[0m\u001b[0;34m\u001b[0m\u001b[0;34m\u001b[0m\u001b[0;34m\u001b[0m\u001b[0m\n\u001b[1;32m    136\u001b[0m \u001b[0;34m\u001b[0m\u001b[0m\n",
            "\u001b[0;32m/usr/local/lib/python3.7/dist-packages/sklearn/linear_model/_base.py\u001b[0m in \u001b[0;36mfit\u001b[0;34m(self, X, y, sample_weight)\u001b[0m\n\u001b[1;32m    661\u001b[0m \u001b[0;34m\u001b[0m\u001b[0m\n\u001b[1;32m    662\u001b[0m         X, y = self._validate_data(\n\u001b[0;32m--> 663\u001b[0;31m             \u001b[0mX\u001b[0m\u001b[0;34m,\u001b[0m \u001b[0my\u001b[0m\u001b[0;34m,\u001b[0m \u001b[0maccept_sparse\u001b[0m\u001b[0;34m=\u001b[0m\u001b[0maccept_sparse\u001b[0m\u001b[0;34m,\u001b[0m \u001b[0my_numeric\u001b[0m\u001b[0;34m=\u001b[0m\u001b[0;32mTrue\u001b[0m\u001b[0;34m,\u001b[0m \u001b[0mmulti_output\u001b[0m\u001b[0;34m=\u001b[0m\u001b[0;32mTrue\u001b[0m\u001b[0;34m\u001b[0m\u001b[0;34m\u001b[0m\u001b[0m\n\u001b[0m\u001b[1;32m    664\u001b[0m         )\n\u001b[1;32m    665\u001b[0m \u001b[0;34m\u001b[0m\u001b[0m\n",
            "\u001b[0;32m/usr/local/lib/python3.7/dist-packages/sklearn/base.py\u001b[0m in \u001b[0;36m_validate_data\u001b[0;34m(self, X, y, reset, validate_separately, **check_params)\u001b[0m\n\u001b[1;32m    579\u001b[0m                 \u001b[0my\u001b[0m \u001b[0;34m=\u001b[0m \u001b[0mcheck_array\u001b[0m\u001b[0;34m(\u001b[0m\u001b[0my\u001b[0m\u001b[0;34m,\u001b[0m \u001b[0;34m**\u001b[0m\u001b[0mcheck_y_params\u001b[0m\u001b[0;34m)\u001b[0m\u001b[0;34m\u001b[0m\u001b[0;34m\u001b[0m\u001b[0m\n\u001b[1;32m    580\u001b[0m             \u001b[0;32melse\u001b[0m\u001b[0;34m:\u001b[0m\u001b[0;34m\u001b[0m\u001b[0;34m\u001b[0m\u001b[0m\n\u001b[0;32m--> 581\u001b[0;31m                 \u001b[0mX\u001b[0m\u001b[0;34m,\u001b[0m \u001b[0my\u001b[0m \u001b[0;34m=\u001b[0m \u001b[0mcheck_X_y\u001b[0m\u001b[0;34m(\u001b[0m\u001b[0mX\u001b[0m\u001b[0;34m,\u001b[0m \u001b[0my\u001b[0m\u001b[0;34m,\u001b[0m \u001b[0;34m**\u001b[0m\u001b[0mcheck_params\u001b[0m\u001b[0;34m)\u001b[0m\u001b[0;34m\u001b[0m\u001b[0;34m\u001b[0m\u001b[0m\n\u001b[0m\u001b[1;32m    582\u001b[0m             \u001b[0mout\u001b[0m \u001b[0;34m=\u001b[0m \u001b[0mX\u001b[0m\u001b[0;34m,\u001b[0m \u001b[0my\u001b[0m\u001b[0;34m\u001b[0m\u001b[0;34m\u001b[0m\u001b[0m\n\u001b[1;32m    583\u001b[0m \u001b[0;34m\u001b[0m\u001b[0m\n",
            "\u001b[0;32m/usr/local/lib/python3.7/dist-packages/sklearn/utils/validation.py\u001b[0m in \u001b[0;36mcheck_X_y\u001b[0;34m(X, y, accept_sparse, accept_large_sparse, dtype, order, copy, force_all_finite, ensure_2d, allow_nd, multi_output, ensure_min_samples, ensure_min_features, y_numeric, estimator)\u001b[0m\n\u001b[1;32m    977\u001b[0m     )\n\u001b[1;32m    978\u001b[0m \u001b[0;34m\u001b[0m\u001b[0m\n\u001b[0;32m--> 979\u001b[0;31m     \u001b[0my\u001b[0m \u001b[0;34m=\u001b[0m \u001b[0m_check_y\u001b[0m\u001b[0;34m(\u001b[0m\u001b[0my\u001b[0m\u001b[0;34m,\u001b[0m \u001b[0mmulti_output\u001b[0m\u001b[0;34m=\u001b[0m\u001b[0mmulti_output\u001b[0m\u001b[0;34m,\u001b[0m \u001b[0my_numeric\u001b[0m\u001b[0;34m=\u001b[0m\u001b[0my_numeric\u001b[0m\u001b[0;34m)\u001b[0m\u001b[0;34m\u001b[0m\u001b[0;34m\u001b[0m\u001b[0m\n\u001b[0m\u001b[1;32m    980\u001b[0m \u001b[0;34m\u001b[0m\u001b[0m\n\u001b[1;32m    981\u001b[0m     \u001b[0mcheck_consistent_length\u001b[0m\u001b[0;34m(\u001b[0m\u001b[0mX\u001b[0m\u001b[0;34m,\u001b[0m \u001b[0my\u001b[0m\u001b[0;34m)\u001b[0m\u001b[0;34m\u001b[0m\u001b[0;34m\u001b[0m\u001b[0m\n",
            "\u001b[0;32m/usr/local/lib/python3.7/dist-packages/sklearn/utils/validation.py\u001b[0m in \u001b[0;36m_check_y\u001b[0;34m(y, multi_output, y_numeric)\u001b[0m\n\u001b[1;32m    995\u001b[0m         \u001b[0m_ensure_no_complex_data\u001b[0m\u001b[0;34m(\u001b[0m\u001b[0my\u001b[0m\u001b[0;34m)\u001b[0m\u001b[0;34m\u001b[0m\u001b[0;34m\u001b[0m\u001b[0m\n\u001b[1;32m    996\u001b[0m     \u001b[0;32mif\u001b[0m \u001b[0my_numeric\u001b[0m \u001b[0;32mand\u001b[0m \u001b[0my\u001b[0m\u001b[0;34m.\u001b[0m\u001b[0mdtype\u001b[0m\u001b[0;34m.\u001b[0m\u001b[0mkind\u001b[0m \u001b[0;34m==\u001b[0m \u001b[0;34m\"O\"\u001b[0m\u001b[0;34m:\u001b[0m\u001b[0;34m\u001b[0m\u001b[0;34m\u001b[0m\u001b[0m\n\u001b[0;32m--> 997\u001b[0;31m         \u001b[0my\u001b[0m \u001b[0;34m=\u001b[0m \u001b[0my\u001b[0m\u001b[0;34m.\u001b[0m\u001b[0mastype\u001b[0m\u001b[0;34m(\u001b[0m\u001b[0mnp\u001b[0m\u001b[0;34m.\u001b[0m\u001b[0mfloat64\u001b[0m\u001b[0;34m)\u001b[0m\u001b[0;34m\u001b[0m\u001b[0;34m\u001b[0m\u001b[0m\n\u001b[0m\u001b[1;32m    998\u001b[0m \u001b[0;34m\u001b[0m\u001b[0m\n\u001b[1;32m    999\u001b[0m     \u001b[0;32mreturn\u001b[0m \u001b[0my\u001b[0m\u001b[0;34m\u001b[0m\u001b[0;34m\u001b[0m\u001b[0m\n",
            "\u001b[0;31mValueError\u001b[0m: setting an array element with a sequence."
          ]
        }
      ]
    },
    {
      "cell_type": "code",
      "source": [
        "linear_regression_model.predict(train_tokens)[0:10]"
      ],
      "metadata": {
        "colab": {
          "base_uri": "https://localhost:8080/"
        },
        "id": "uZtjtEfVtdCv",
        "outputId": "eb165d92-7a73-4f6b-b9c3-089cde58a8d2"
      },
      "execution_count": null,
      "outputs": [
        {
          "output_type": "execute_result",
          "data": {
            "text/plain": [
              "array([53.56825596, 40.9159887 , 49.25788119, 68.80862069, 37.44380776,\n",
              "       54.05467123, 46.81571429, 41.75217391, 60.16086957, 31.67750383])"
            ]
          },
          "metadata": {},
          "execution_count": 72
        }
      ]
    },
    {
      "cell_type": "code",
      "source": [
        "train_y[0:10]"
      ],
      "metadata": {
        "colab": {
          "base_uri": "https://localhost:8080/"
        },
        "id": "WSNgvilJtkVn",
        "outputId": "07432973-fc27-4571-d5e3-42db20fd5da8"
      },
      "execution_count": null,
      "outputs": [
        {
          "output_type": "execute_result",
          "data": {
            "text/plain": [
              "array([53.56825596, 40.9159887 , 49.25788119, 68.80862069, 37.44380776,\n",
              "       54.05467123, 46.81571429, 41.75217391, 60.16086957, 31.67750383])"
            ]
          },
          "metadata": {},
          "execution_count": 73
        }
      ]
    },
    {
      "cell_type": "code",
      "execution_count": null,
      "metadata": {
        "colab": {
          "base_uri": "https://localhost:8080/"
        },
        "id": "80iHObva25zE",
        "outputId": "6bdef8e2-f01c-4dcb-9fae-e4c2deb89846"
      },
      "outputs": [
        {
          "output_type": "stream",
          "name": "stderr",
          "text": [
            "Downloading: \"https://github.com/facebookresearch/esm/zipball/main\" to /root/.cache/torch/hub/main.zip\n",
            "Downloading: \"https://dl.fbaipublicfiles.com/fair-esm/models/esm1b_t33_650M_UR50S.pt\" to /root/.cache/torch/hub/checkpoints/esm1b_t33_650M_UR50S.pt\n"
          ]
        }
      ],
      "source": [
        "model, alphabet = torch.hub.load(\"facebookresearch/esm:main\", \"esm1b_t33_650M_UR50S\")"
      ]
    },
    {
      "cell_type": "code",
      "execution_count": null,
      "metadata": {
        "id": "b2pNgtxZ25zF"
      },
      "outputs": [],
      "source": [
        "batch_converter = alphabet.get_batch_converter()\n",
        "model.eval()  # disables dropout for deterministic results\n",
        "\n",
        "# Prepare data (first 2 sequences from ESMStructuralSplitDataset superfamily / 4)\n",
        "data = [\n",
        "    (\"protein1\", \"MKTVRQERLKSIVRILERSKEPVSGAQLAEELSVSRQVIVQDIAYLRSLGYNIVATPRGYVLAGG\"),\n",
        "    (\"protein2\", \"KALTARQQEVFDLIRDHISQTGMPPTRAEIAQRLGFRSPNAAEEHLKALARKGVIEIVSGASRGIRLLQEE\"),\n",
        "    (\"protein2 with mask\",\"KALTARQQEVFDLIRD<mask>ISQTGMPPTRAEIAQRLGFRSPNAAEEHLKALARKGVIEIVSGASRGIRLLQEE\"),\n",
        "    (\"protein3\",  \"K A <mask> I S Q\"),\n",
        "]\n",
        "batch_labels, batch_strs, batch_tokens = batch_converter(data)\n",
        "\n",
        "# Extract per-residue representations (on CPU)\n",
        "with torch.no_grad():\n",
        "    results = model(batch_tokens, repr_layers=[33], return_contacts=True)\n",
        "token_representations = results[\"representations\"][33]"
      ]
    },
    {
      "cell_type": "code",
      "execution_count": null,
      "metadata": {
        "id": "pkWs-gEm25zG"
      },
      "outputs": [],
      "source": [
        "# Generate per-sequence representations via averaging\n",
        "# NOTE: token 0 is always a beginning-of-sequence token, so the first residue is token 1.\n",
        "sequence_representations = []\n",
        "for i, (_, seq) in enumerate(data):\n",
        "    sequence_representations.append(token_representations[i, 1 : len(seq) + 1].mean(0))\n",
        "\n",
        "# Look at the unsupervised self-attention map contact predictions\n",
        "import matplotlib.pyplot as plt\n",
        "for (_, seq), attention_contacts in zip(data, results[\"contacts\"]):\n",
        "    plt.matshow(attention_contacts[: len(seq), : len(seq)])\n",
        "    plt.title(seq)\n",
        "    plt.show()"
      ]
    },
    {
      "cell_type": "code",
      "execution_count": null,
      "metadata": {
        "id": "5eW76fEt25zH"
      },
      "outputs": [],
      "source": [
        "sequence_representations[3].shape"
      ]
    },
    {
      "cell_type": "code",
      "execution_count": null,
      "metadata": {
        "id": "C2rpsVD825zI"
      },
      "outputs": [],
      "source": [
        "token_representations[3].shape"
      ]
    }
  ],
  "metadata": {
    "kernelspec": {
      "display_name": "Python 3.9.13 ('nlp')",
      "language": "python",
      "name": "python3"
    },
    "language_info": {
      "codemirror_mode": {
        "name": "ipython",
        "version": 3
      },
      "file_extension": ".py",
      "mimetype": "text/x-python",
      "name": "python",
      "nbconvert_exporter": "python",
      "pygments_lexer": "ipython3",
      "version": "3.9.13"
    },
    "orig_nbformat": 4,
    "vscode": {
      "interpreter": {
        "hash": "a8d352556b14eb67fbeb3aa81f53c1794c5d4a8c4ceb5afca9aa9fe9fcbd004d"
      }
    },
    "colab": {
      "provenance": [],
      "collapsed_sections": []
    }
  },
  "nbformat": 4,
  "nbformat_minor": 0
}