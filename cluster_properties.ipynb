{
 "cells": [
  {
   "cell_type": "code",
   "execution_count": 2,
   "id": "07d29fe4-f76e-4283-ab57-d28727e57a58",
   "metadata": {},
   "outputs": [],
   "source": [
    "import torch\n",
    "import numpy as np\n",
    "import pandas as pd\n",
    "import matplotlib.pyplot as plt\n",
    "import uniprot\n",
    "from Bio.SeqUtils.ProtParam import ProteinAnalysis"
   ]
  },
  {
   "cell_type": "code",
   "execution_count": 3,
   "id": "fbda5969-c634-48f7-94e6-79b1d4bb14e4",
   "metadata": {},
   "outputs": [],
   "source": [
    "seqids, fastas = uniprot.read_fasta(r\"C:\\Users\\marcu\\Natural Language Processing\\Final_Project\\uniprot_sprot.fasta\\uniprot_sprot.fasta\")"
   ]
  },
  {
   "cell_type": "code",
   "execution_count": 4,
   "id": "8119287f-8a01-4f94-87a0-7f01d51461e1",
   "metadata": {},
   "outputs": [],
   "source": [
    "homosapiens = [ (sp,data) for sp,data in fastas.items() if 'Homo sapiens' in data['description'] ]"
   ]
  },
  {
   "cell_type": "code",
   "execution_count": 5,
   "id": "0a777955-d724-491f-9716-0d717036d942",
   "metadata": {},
   "outputs": [],
   "source": [
    "def createDataTuples(sequences):\n",
    "    dataTuples = []\n",
    "    c = 1\n",
    "    for sp,info in sequences:\n",
    "        protein = \"protein\"+str(c)\n",
    "        dataTuples.append( (protein,info['sequence']) )\n",
    "        c+=1\n",
    "    return dataTuples"
   ]
  },
  {
   "cell_type": "code",
   "execution_count": 21,
   "id": "01b2b956-9cf3-4d9c-ab17-5828632c12af",
   "metadata": {},
   "outputs": [
    {
     "data": {
      "text/plain": [
       "('sp|P31946',\n",
       " {'sequence': 'MTMDKSELVQKAKLAEQAERYDDMAAAMKAVTEQGHELSNEERNLLSVAYKNVVGARRSSWRVISSIEQKTERNEKKQQMGKEYREKIEAELQDICNDVLELLDKYLIPNATQPESKVFYLKMKGDYFRYLSEVASGDNKQTTVSNSQQAYQEAFEISKKEMQPTHPIRLGLALNFSVFYYEILNSPEKACSLAKTAFDEAIAELDTLNEESYKDSTLIMQLLRDNLTLWTSENQGDEGDAGEGEN',\n",
       "  'description': 'sp|P31946 1433B_HUMAN 14-3-3 protein beta/alpha OS=Homo sapiens OX=9606 GN=YWHAB PE=1 SV=3'})"
      ]
     },
     "execution_count": 21,
     "metadata": {},
     "output_type": "execute_result"
    }
   ],
   "source": [
    "(homosapiens[0])"
   ]
  },
  {
   "cell_type": "code",
   "execution_count": 24,
   "id": "bce69d2c-36f9-46c3-80aa-426f44e1e4f0",
   "metadata": {},
   "outputs": [],
   "source": [
    "dt = createDataTuples(homosapiens[:4])"
   ]
  },
  {
   "cell_type": "code",
   "execution_count": 25,
   "id": "2b9aafc0-8df3-44cf-8857-93c2e49d20c4",
   "metadata": {},
   "outputs": [
    {
     "data": {
      "text/plain": [
       "('protein2',\n",
       " 'MDDREDLVYQAKLAEQAERYDEMVESMKKVAGMDVELTVEERNLLSVAYKNVIGARRASWRIISSIEQKEENKGGEDKLKMIREYRQMVETELKLICCDILDVLDKHLIPAANTGESKVFYYKMKGDYHRYLAEFATGNDRKEAAENSLVAYKAASDIAMTELPPTHPIRLGLALNFSVFYYEILNSPDRACRLAKAAFDDAIAELDTLSEESYKDSTLIMQLLRDNLTLWTSDMQGDGEEQNKEALQDVEDENQ')"
      ]
     },
     "execution_count": 25,
     "metadata": {},
     "output_type": "execute_result"
    }
   ],
   "source": [
    "dt[1]"
   ]
  },
  {
   "cell_type": "code",
   "execution_count": 26,
   "id": "2dc1802f-2836-42f5-b974-114ed9a14e3f",
   "metadata": {},
   "outputs": [
    {
     "name": "stderr",
     "output_type": "stream",
     "text": [
      "Using cache found in C:\\Users\\marcu/.cache\\torch\\hub\\facebookresearch_esm_main\n"
     ]
    }
   ],
   "source": [
    "model, alphabet = torch.hub.load(\"facebookresearch/esm:main\", \"esm1b_t33_650M_UR50S\")"
   ]
  },
  {
   "cell_type": "code",
   "execution_count": 27,
   "id": "c5951ed9-a5f9-4d28-ad99-87f78b2c9764",
   "metadata": {},
   "outputs": [],
   "source": [
    "batch_converter = alphabet.get_batch_converter()\n",
    "model.eval()\n",
    "\n",
    "batch_labels, batch_strs, batch_tokens = batch_converter(dt)\n",
    "with torch.no_grad():\n",
    "    results = model(batch_tokens, repr_layers=[33], return_contacts=True)\n",
    "token_representations = results[\"representations\"][33]"
   ]
  },
  {
   "cell_type": "code",
   "execution_count": 28,
   "id": "b7ab4f44-f186-4e4a-b66a-febe39fde23f",
   "metadata": {},
   "outputs": [
    {
     "data": {
      "text/plain": [
       "tensor([[[-0.0138,  0.2506,  0.1216,  ..., -0.0480,  0.0172, -0.0629],\n",
       "         [-0.1376,  0.0544,  0.2431,  ..., -0.1317, -0.2020,  0.0307],\n",
       "         [ 0.1980,  0.0301,  0.2243,  ..., -0.2335,  0.1029,  0.3238],\n",
       "         ...,\n",
       "         [ 0.0274,  0.0241,  0.0843,  ..., -0.2084,  0.1100,  0.0597],\n",
       "         [ 0.0274,  0.0241,  0.0843,  ..., -0.2084,  0.1100,  0.0597],\n",
       "         [ 0.0274,  0.0241,  0.0843,  ..., -0.2084,  0.1100,  0.0597]],\n",
       "\n",
       "        [[ 0.0031,  0.2273,  0.1295,  ..., -0.0518,  0.0324, -0.0986],\n",
       "         [-0.0876, -0.0066,  0.1948,  ..., -0.0663, -0.1930, -0.0628],\n",
       "         [ 0.2386,  0.2754,  0.2699,  ...,  0.1197, -0.0385, -0.0086],\n",
       "         ...,\n",
       "         [-0.2169,  0.0512,  0.0444,  ...,  0.1538, -0.4770,  0.1343],\n",
       "         [-0.0680,  0.1324,  0.0286,  ...,  0.0988, -0.3025,  0.3157],\n",
       "         [ 0.0052, -0.0442,  0.0834,  ..., -0.1358,  0.0491, -0.0292]],\n",
       "\n",
       "        [[-0.0144,  0.2401,  0.1047,  ..., -0.0302,  0.0354, -0.0668],\n",
       "         [-0.0759,  0.0418,  0.2571,  ..., -0.2059, -0.1021,  0.0128],\n",
       "         [ 0.2454,  0.2762,  0.1244,  ...,  0.0281, -0.0760,  0.0375],\n",
       "         ...,\n",
       "         [ 0.0456, -0.0195,  0.0374,  ..., -0.1912,  0.1576,  0.0416],\n",
       "         [ 0.0456, -0.0195,  0.0374,  ..., -0.1912,  0.1576,  0.0416],\n",
       "         [ 0.0456, -0.0195,  0.0374,  ..., -0.1912,  0.1576,  0.0416]],\n",
       "\n",
       "        [[-0.0042,  0.2390,  0.1161,  ..., -0.0309,  0.0339, -0.0677],\n",
       "         [-0.0643,  0.0395,  0.2758,  ..., -0.1691, -0.1223, -0.0552],\n",
       "         [ 0.1628,  0.1906,  0.1629,  ..., -0.0546, -0.0283,  0.1016],\n",
       "         ...,\n",
       "         [ 0.0314, -0.0275,  0.0630,  ..., -0.1903,  0.1408,  0.0334],\n",
       "         [ 0.0314, -0.0275,  0.0630,  ..., -0.1903,  0.1408,  0.0334],\n",
       "         [ 0.0314, -0.0275,  0.0630,  ..., -0.1903,  0.1408,  0.0334]]])"
      ]
     },
     "execution_count": 28,
     "metadata": {},
     "output_type": "execute_result"
    }
   ],
   "source": [
    "token_representations"
   ]
  },
  {
   "cell_type": "code",
   "execution_count": null,
   "id": "c1cae82a-7c2d-43bc-8471-b8670e323158",
   "metadata": {},
   "outputs": [],
   "source": []
  }
 ],
 "metadata": {
  "kernelspec": {
   "display_name": "Python 3 (ipykernel)",
   "language": "python",
   "name": "python3"
  },
  "language_info": {
   "codemirror_mode": {
    "name": "ipython",
    "version": 3
   },
   "file_extension": ".py",
   "mimetype": "text/x-python",
   "name": "python",
   "nbconvert_exporter": "python",
   "pygments_lexer": "ipython3",
   "version": "3.10.6"
  }
 },
 "nbformat": 4,
 "nbformat_minor": 5
}
